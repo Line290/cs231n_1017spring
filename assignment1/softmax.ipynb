{
 "cells": [
  {
   "cell_type": "markdown",
   "metadata": {},
   "source": [
    "# Softmax exercise\n",
    "\n",
    "*Complete and hand in this completed worksheet (including its outputs and any supporting code outside of the worksheet) with your assignment submission. For more details see the [assignments page](http://vision.stanford.edu/teaching/cs231n/assignments.html) on the course website.*\n",
    "\n",
    "This exercise is analogous to the SVM exercise. You will:\n",
    "\n",
    "- implement a fully-vectorized **loss function** for the Softmax classifier\n",
    "- implement the fully-vectorized expression for its **analytic gradient**\n",
    "- **check your implementation** with numerical gradient\n",
    "- use a validation set to **tune the learning rate and regularization** strength\n",
    "- **optimize** the loss function with **SGD**\n",
    "- **visualize** the final learned weights\n"
   ]
  },
  {
   "cell_type": "code",
   "execution_count": 1,
   "metadata": {
    "collapsed": false
   },
   "outputs": [],
   "source": [
    "import random\n",
    "import numpy as np\n",
    "from cs231n.data_utils import load_CIFAR10\n",
    "import matplotlib.pyplot as plt\n",
    "\n",
    "from __future__ import print_function\n",
    "\n",
    "%matplotlib inline\n",
    "plt.rcParams['figure.figsize'] = (10.0, 8.0) # set default size of plots\n",
    "plt.rcParams['image.interpolation'] = 'nearest'\n",
    "plt.rcParams['image.cmap'] = 'gray'\n",
    "\n",
    "# for auto-reloading extenrnal modules\n",
    "# see http://stackoverflow.com/questions/1907993/autoreload-of-modules-in-ipython\n",
    "%load_ext autoreload\n",
    "%autoreload 2"
   ]
  },
  {
   "cell_type": "code",
   "execution_count": 2,
   "metadata": {
    "collapsed": false
   },
   "outputs": [
    {
     "name": "stdout",
     "output_type": "stream",
     "text": [
      "Train data shape:  (49000, 3073)\n",
      "Train labels shape:  (49000,)\n",
      "Validation data shape:  (1000, 3073)\n",
      "Validation labels shape:  (1000,)\n",
      "Test data shape:  (1000, 3073)\n",
      "Test labels shape:  (1000,)\n",
      "dev data shape:  (500, 3073)\n",
      "dev labels shape:  (500,)\n"
     ]
    }
   ],
   "source": [
    "def get_CIFAR10_data(num_training=49000, num_validation=1000, num_test=1000, num_dev=500):\n",
    "    \"\"\"\n",
    "    Load the CIFAR-10 dataset from disk and perform preprocessing to prepare\n",
    "    it for the linear classifier. These are the same steps as we used for the\n",
    "    SVM, but condensed to a single function.  \n",
    "    \"\"\"\n",
    "    # Load the raw CIFAR-10 data\n",
    "    cifar10_dir = 'cs231n/datasets/cifar-10-batches-py'\n",
    "    X_train, y_train, X_test, y_test = load_CIFAR10(cifar10_dir)\n",
    "    \n",
    "    # subsample the data\n",
    "    mask = list(range(num_training, num_training + num_validation))\n",
    "    X_val = X_train[mask]\n",
    "    y_val = y_train[mask]\n",
    "    mask = list(range(num_training))\n",
    "    X_train = X_train[mask]\n",
    "    y_train = y_train[mask]\n",
    "    mask = list(range(num_test))\n",
    "    X_test = X_test[mask]\n",
    "    y_test = y_test[mask]\n",
    "    mask = np.random.choice(num_training, num_dev, replace=False)\n",
    "    X_dev = X_train[mask]\n",
    "    y_dev = y_train[mask]\n",
    "    \n",
    "    # Preprocessing: reshape the image data into rows\n",
    "    X_train = np.reshape(X_train, (X_train.shape[0], -1))\n",
    "    X_val = np.reshape(X_val, (X_val.shape[0], -1))\n",
    "    X_test = np.reshape(X_test, (X_test.shape[0], -1))\n",
    "    X_dev = np.reshape(X_dev, (X_dev.shape[0], -1))\n",
    "    \n",
    "    # Normalize the data: subtract the mean image\n",
    "    mean_image = np.mean(X_train, axis = 0)\n",
    "    X_train -= mean_image\n",
    "    X_val -= mean_image\n",
    "    X_test -= mean_image\n",
    "    X_dev -= mean_image\n",
    "    \n",
    "    # add bias dimension and transform into columns\n",
    "    X_train = np.hstack([X_train, np.ones((X_train.shape[0], 1))])\n",
    "    X_val = np.hstack([X_val, np.ones((X_val.shape[0], 1))])\n",
    "    X_test = np.hstack([X_test, np.ones((X_test.shape[0], 1))])\n",
    "    X_dev = np.hstack([X_dev, np.ones((X_dev.shape[0], 1))])\n",
    "    \n",
    "    return X_train, y_train, X_val, y_val, X_test, y_test, X_dev, y_dev\n",
    "\n",
    "\n",
    "# Invoke the above function to get our data.\n",
    "X_train, y_train, X_val, y_val, X_test, y_test, X_dev, y_dev = get_CIFAR10_data()\n",
    "print('Train data shape: ', X_train.shape)\n",
    "print('Train labels shape: ', y_train.shape)\n",
    "print('Validation data shape: ', X_val.shape)\n",
    "print('Validation labels shape: ', y_val.shape)\n",
    "print('Test data shape: ', X_test.shape)\n",
    "print('Test labels shape: ', y_test.shape)\n",
    "print('dev data shape: ', X_dev.shape)\n",
    "print('dev labels shape: ', y_dev.shape)"
   ]
  },
  {
   "cell_type": "markdown",
   "metadata": {},
   "source": [
    "## Softmax Classifier\n",
    "\n",
    "Your code for this section will all be written inside **cs231n/classifiers/softmax.py**. \n"
   ]
  },
  {
   "cell_type": "code",
   "execution_count": 3,
   "metadata": {
    "collapsed": false
   },
   "outputs": [
    {
     "name": "stdout",
     "output_type": "stream",
     "text": [
      "loss: 2.370341\n",
      "sanity check: 2.302585\n"
     ]
    }
   ],
   "source": [
    "# First implement the naive softmax loss function with nested loops.\n",
    "# Open the file cs231n/classifiers/softmax.py and implement the\n",
    "# softmax_loss_naive function.\n",
    "\n",
    "from cs231n.classifiers.softmax import softmax_loss_naive\n",
    "import time\n",
    "\n",
    "# Generate a random softmax weight matrix and use it to compute the loss.\n",
    "W = np.random.randn(3073, 10) * 0.0001\n",
    "loss, grad = softmax_loss_naive(W, X_dev, y_dev, 0.0)\n",
    "\n",
    "# As a rough sanity check, our loss should be something close to -log(0.1).\n",
    "print('loss: %f' % loss)\n",
    "print('sanity check: %f' % (-np.log(0.1)))"
   ]
  },
  {
   "cell_type": "markdown",
   "metadata": {},
   "source": [
    "## Inline Question 1:\n",
    "Why do we expect our loss to be close to -log(0.1)? Explain briefly.**\n",
    "\n",
    "**Your answer:** Ten classes. The probability should be 1/10.\n"
   ]
  },
  {
   "cell_type": "code",
   "execution_count": 4,
   "metadata": {
    "collapsed": false
   },
   "outputs": [
    {
     "name": "stdout",
     "output_type": "stream",
     "text": [
      "numerical: -0.874834 analytic: -0.874834, relative error: 1.061766e-08\n",
      "numerical: 1.473193 analytic: 1.473193, relative error: 4.657158e-08\n",
      "numerical: 1.904562 analytic: 1.904562, relative error: 3.929094e-08\n",
      "numerical: -1.191430 analytic: -1.191430, relative error: 4.488707e-10\n",
      "numerical: -0.245383 analytic: -0.245383, relative error: 4.822822e-08\n",
      "numerical: 0.349078 analytic: 0.349078, relative error: 2.519279e-08\n",
      "numerical: -1.039733 analytic: -1.039733, relative error: 4.446477e-08\n",
      "numerical: 2.592769 analytic: 2.592769, relative error: 1.430935e-08\n",
      "numerical: 0.913599 analytic: 0.913599, relative error: 1.449322e-08\n",
      "numerical: -1.844057 analytic: -1.844057, relative error: 3.912225e-08\n",
      "numerical: -1.262925 analytic: -1.262925, relative error: 9.372421e-09\n",
      "numerical: -0.167106 analytic: -0.167106, relative error: 1.448794e-07\n",
      "numerical: -4.284140 analytic: -4.284140, relative error: 8.660136e-09\n",
      "numerical: 1.221980 analytic: 1.221980, relative error: 5.281554e-08\n",
      "numerical: 3.092140 analytic: 3.092140, relative error: 2.650975e-08\n",
      "numerical: 0.505157 analytic: 0.505157, relative error: 7.101816e-08\n",
      "numerical: 0.158269 analytic: 0.158269, relative error: 2.455187e-08\n",
      "numerical: 0.905345 analytic: 0.905345, relative error: 7.942059e-08\n",
      "numerical: 0.550083 analytic: 0.550083, relative error: 6.112621e-09\n",
      "numerical: -1.153950 analytic: -1.153950, relative error: 3.118719e-08\n"
     ]
    }
   ],
   "source": [
    "# Complete the implementation of softmax_loss_naive and implement a (naive)\n",
    "# version of the gradient that uses nested loops.\n",
    "loss, grad = softmax_loss_naive(W, X_dev, y_dev, 0.0)\n",
    "\n",
    "# As we did for the SVM, use numeric gradient checking as a debugging tool.\n",
    "# The numeric gradient should be close to the analytic gradient.\n",
    "from cs231n.gradient_check import grad_check_sparse\n",
    "f = lambda w: softmax_loss_naive(w, X_dev, y_dev, 0.0)[0]\n",
    "grad_numerical = grad_check_sparse(f, W, grad, 10)\n",
    "\n",
    "# similar to SVM case, do another gradient check with regularization\n",
    "loss, grad = softmax_loss_naive(W, X_dev, y_dev, 5e1)\n",
    "f = lambda w: softmax_loss_naive(w, X_dev, y_dev, 5e1)[0]\n",
    "grad_numerical = grad_check_sparse(f, W, grad, 10)"
   ]
  },
  {
   "cell_type": "code",
   "execution_count": 5,
   "metadata": {
    "collapsed": false
   },
   "outputs": [
    {
     "name": "stdout",
     "output_type": "stream",
     "text": [
      "naive loss: 2.370341e+00 computed in 0.607727s\n",
      "vectorized loss: 2.370341e+00 computed in 0.041919s\n",
      "Loss difference: 0.000000\n",
      "Gradient difference: 0.000000\n"
     ]
    }
   ],
   "source": [
    "# Now that we have a naive implementation of the softmax loss function and its gradient,\n",
    "# implement a vectorized version in softmax_loss_vectorized.\n",
    "# The two versions should compute the same results, but the vectorized version should be\n",
    "# much faster.\n",
    "tic = time.time()\n",
    "loss_naive, grad_naive = softmax_loss_naive(W, X_dev, y_dev, 0.000005)\n",
    "toc = time.time()\n",
    "print('naive loss: %e computed in %fs' % (loss_naive, toc - tic))\n",
    "\n",
    "from cs231n.classifiers.softmax import softmax_loss_vectorized\n",
    "tic = time.time()\n",
    "loss_vectorized, grad_vectorized = softmax_loss_vectorized(W, X_dev, y_dev, 0.000005)\n",
    "toc = time.time()\n",
    "print('vectorized loss: %e computed in %fs' % (loss_vectorized, toc - tic))\n",
    "\n",
    "# As we did for the SVM, we use the Frobenius norm to compare the two versions\n",
    "# of the gradient.\n",
    "grad_difference = np.linalg.norm(grad_naive - grad_vectorized, ord='fro')\n",
    "print('Loss difference: %f' % np.abs(loss_naive - loss_vectorized))\n",
    "print('Gradient difference: %f' % grad_difference)"
   ]
  },
  {
   "cell_type": "code",
   "execution_count": 7,
   "metadata": {
    "collapsed": false
   },
   "outputs": [
    {
     "name": "stderr",
     "output_type": "stream",
     "text": [
      "cs231n/classifiers/softmax.py:80: RuntimeWarning: divide by zero encountered in log\n",
      "  loss = -np.sum(np.log(prob[range(num_train),list(y)]))\n",
      "cs231n/classifiers/softmax.py:82: RuntimeWarning: overflow encountered in double_scalars\n",
      "  loss += 0.5 * reg * np.sum(W*W)\n",
      "cs231n/classifiers/softmax.py:82: RuntimeWarning: overflow encountered in multiply\n",
      "  loss += 0.5 * reg * np.sum(W*W)\n",
      "cs231n/classifiers/softmax.py:78: RuntimeWarning: overflow encountered in subtract\n",
      "  shift_scores = scores - np.max(scores, axis=1).reshape(-1,1)\n"
     ]
    },
    {
     "name": "stdout",
     "output_type": "stream",
     "text": [
      "lr 1.000000e-07 reg 2.500000e+04 train accuracy: 0.349143 val accuracy: 0.367000\n",
      "lr 1.000000e-07 reg 3.000000e+04 train accuracy: 0.341531 val accuracy: 0.356000\n",
      "lr 1.000000e-07 reg 3.500000e+04 train accuracy: 0.343857 val accuracy: 0.358000\n",
      "lr 1.000000e-07 reg 4.000000e+04 train accuracy: 0.332020 val accuracy: 0.342000\n",
      "lr 1.000000e-07 reg 4.500000e+04 train accuracy: 0.334347 val accuracy: 0.341000\n",
      "lr 1.000000e-07 reg 5.000000e+04 train accuracy: 0.328184 val accuracy: 0.341000\n",
      "lr 5.000000e-07 reg 2.500000e+04 train accuracy: 0.350633 val accuracy: 0.364000\n",
      "lr 5.000000e-07 reg 3.000000e+04 train accuracy: 0.342061 val accuracy: 0.352000\n",
      "lr 5.000000e-07 reg 3.500000e+04 train accuracy: 0.338286 val accuracy: 0.356000\n",
      "lr 5.000000e-07 reg 4.000000e+04 train accuracy: 0.340306 val accuracy: 0.354000\n",
      "lr 5.000000e-07 reg 4.500000e+04 train accuracy: 0.328367 val accuracy: 0.340000\n",
      "lr 5.000000e-07 reg 5.000000e+04 train accuracy: 0.328327 val accuracy: 0.336000\n",
      "lr 1.000000e-06 reg 2.500000e+04 train accuracy: 0.347633 val accuracy: 0.348000\n",
      "lr 1.000000e-06 reg 3.000000e+04 train accuracy: 0.338000 val accuracy: 0.348000\n",
      "lr 1.000000e-06 reg 3.500000e+04 train accuracy: 0.324020 val accuracy: 0.342000\n",
      "lr 1.000000e-06 reg 4.000000e+04 train accuracy: 0.325776 val accuracy: 0.337000\n",
      "lr 1.000000e-06 reg 4.500000e+04 train accuracy: 0.329143 val accuracy: 0.341000\n",
      "lr 1.000000e-06 reg 5.000000e+04 train accuracy: 0.318673 val accuracy: 0.342000\n",
      "lr 5.000000e-06 reg 2.500000e+04 train accuracy: 0.253612 val accuracy: 0.234000\n",
      "lr 5.000000e-06 reg 3.000000e+04 train accuracy: 0.272122 val accuracy: 0.289000\n",
      "lr 5.000000e-06 reg 3.500000e+04 train accuracy: 0.261837 val accuracy: 0.289000\n",
      "lr 5.000000e-06 reg 4.000000e+04 train accuracy: 0.210286 val accuracy: 0.225000\n",
      "lr 5.000000e-06 reg 4.500000e+04 train accuracy: 0.191286 val accuracy: 0.190000\n",
      "lr 5.000000e-06 reg 5.000000e+04 train accuracy: 0.169898 val accuracy: 0.177000\n",
      "lr 1.000000e-05 reg 2.500000e+04 train accuracy: 0.133061 val accuracy: 0.151000\n",
      "lr 1.000000e-05 reg 3.000000e+04 train accuracy: 0.148980 val accuracy: 0.147000\n",
      "lr 1.000000e-05 reg 3.500000e+04 train accuracy: 0.146000 val accuracy: 0.163000\n",
      "lr 1.000000e-05 reg 4.000000e+04 train accuracy: 0.168918 val accuracy: 0.176000\n",
      "lr 1.000000e-05 reg 4.500000e+04 train accuracy: 0.135694 val accuracy: 0.120000\n",
      "lr 1.000000e-05 reg 5.000000e+04 train accuracy: 0.129490 val accuracy: 0.121000\n",
      "lr 5.000000e-05 reg 2.500000e+04 train accuracy: 0.109592 val accuracy: 0.103000\n",
      "lr 5.000000e-05 reg 3.000000e+04 train accuracy: 0.098755 val accuracy: 0.090000\n",
      "lr 5.000000e-05 reg 3.500000e+04 train accuracy: 0.091735 val accuracy: 0.097000\n",
      "lr 5.000000e-05 reg 4.000000e+04 train accuracy: 0.095531 val accuracy: 0.084000\n",
      "lr 5.000000e-05 reg 4.500000e+04 train accuracy: 0.099714 val accuracy: 0.101000\n",
      "lr 5.000000e-05 reg 5.000000e+04 train accuracy: 0.100265 val accuracy: 0.087000\n",
      "best validation accuracy achieved during cross-validation: 0.367000\n"
     ]
    },
    {
     "name": "stderr",
     "output_type": "stream",
     "text": [
      "cs231n/classifiers/softmax.py:78: RuntimeWarning: invalid value encountered in subtract\n",
      "  shift_scores = scores - np.max(scores, axis=1).reshape(-1,1)\n",
      "cs231n/classifiers/softmax.py:88: RuntimeWarning: overflow encountered in multiply\n",
      "  dW += reg * W\n"
     ]
    }
   ],
   "source": [
    "# Use the validation set to tune hyperparameters (regularization strength and\n",
    "# learning rate). You should experiment with different ranges for the learning\n",
    "# rates and regularization strengths; if you are careful you should be able to\n",
    "# get a classification accuracy of over 0.35 on the validation set.\n",
    "from cs231n.classifiers import Softmax\n",
    "results = {}\n",
    "best_val = -1\n",
    "best_softmax = None\n",
    "# learning_rates = [1e-7, 5e-7]\n",
    "# regularization_strengths = [2.5e4, 5e4]\n",
    "lrs = [1e-7, 5e-7, 1e-6, 5e-6, 1e-5, 5e-5]\n",
    "rss = [2.5e4, 3e4, 3.5e4, 4e4, 4.5e4, 5e4]\n",
    "################################################################################\n",
    "# TODO:                                                                        #\n",
    "# Use the validation set to set the learning rate and regularization strength. #\n",
    "# This should be identical to the validation that you did for the SVM; save    #\n",
    "# the best trained softmax classifer in best_softmax.                          #\n",
    "################################################################################\n",
    "pass\n",
    "for lr in lrs:\n",
    "    for rs in rss:\n",
    "        softmax = Softmax()\n",
    "        softmax.train(X_train, y_train, lr, rs, num_iters=2000)\n",
    "        y_train_predict = softmax.predict(X_train)\n",
    "        train_accuracy = np.mean(y_train == y_train_predict)\n",
    "        y_val_predict = softmax.predict(X_val)\n",
    "        val_accuracy = np.mean(y_val == y_val_predict)\n",
    "        if val_accuracy > best_val:\n",
    "            best_val = val_accuracy\n",
    "            best_softmax = softmax\n",
    "        results[(lr,rs)] = train_accuracy, val_accuracy\n",
    "################################################################################\n",
    "#                              END OF YOUR CODE                                #\n",
    "################################################################################\n",
    "    \n",
    "# Print out results.\n",
    "for lr, reg in sorted(results):\n",
    "    train_accuracy, val_accuracy = results[(lr, reg)]\n",
    "    print('lr %e reg %e train accuracy: %f val accuracy: %f' % (\n",
    "                lr, reg, train_accuracy, val_accuracy))\n",
    "    \n",
    "print('best validation accuracy achieved during cross-validation: %f' % best_val)"
   ]
  },
  {
   "cell_type": "code",
   "execution_count": 8,
   "metadata": {
    "collapsed": false
   },
   "outputs": [
    {
     "name": "stdout",
     "output_type": "stream",
     "text": [
      "softmax on raw pixels final test set accuracy: 0.359000\n"
     ]
    }
   ],
   "source": [
    "# evaluate on test set\n",
    "# Evaluate the best softmax on test set\n",
    "y_test_pred = best_softmax.predict(X_test)\n",
    "test_accuracy = np.mean(y_test == y_test_pred)\n",
    "print('softmax on raw pixels final test set accuracy: %f' % (test_accuracy, ))"
   ]
  },
  {
   "cell_type": "code",
   "execution_count": 9,
   "metadata": {
    "collapsed": false
   },
   "outputs": [
    {
     "data": {
      "image/png": "[encoded data removed]",
      "text/plain": [
       "<matplotlib.figure.Figure at 0x7f22f92c5110>"
      ]
     },
     "metadata": {},
     "output_type": "display_data"
    }
   ],
   "source": [
    "# Visualize the learned weights for each class\n",
    "w = best_softmax.W[:-1,:] # strip out the bias\n",
    "w = w.reshape(32, 32, 3, 10)\n",
    "\n",
    "w_min, w_max = np.min(w), np.max(w)\n",
    "\n",
    "classes = ['plane', 'car', 'bird', 'cat', 'deer', 'dog', 'frog', 'horse', 'ship', 'truck']\n",
    "for i in range(10):\n",
    "    plt.subplot(2, 5, i + 1)\n",
    "    \n",
    "    # Rescale the weights to be between 0 and 255\n",
    "    wimg = 255.0 * (w[:, :, :, i].squeeze() - w_min) / (w_max - w_min)\n",
    "    plt.imshow(wimg.astype('uint8'))\n",
    "    plt.axis('off')\n",
    "    plt.title(classes[i])"
   ]
  },
  {
   "cell_type": "code",
   "execution_count": null,
   "metadata": {
    "collapsed": true
   },
   "outputs": [],
   "source": []
  }
 ],
 "metadata": {
  "kernelspec": {
   "display_name": "Python 2",
   "language": "python",
   "name": "python2"
  },
  "language_info": {
   "codemirror_mode": {
    "name": "ipython",
    "version": 2
   },
   "file_extension": ".py",
   "mimetype": "text/x-python",
   "name": "python",
   "nbconvert_exporter": "python",
   "pygments_lexer": "ipython2",
   "version": "2.7.12"
  }
 },
 "nbformat": 4,
 "nbformat_minor": 0
}
